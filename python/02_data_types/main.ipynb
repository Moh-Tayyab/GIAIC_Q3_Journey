{
 "cells": [
  {
   "cell_type": "markdown",
   "metadata": {},
   "source": [
    "## Python Data Types\n",
    "`Data types determine the type of value a variable can hold and the operations that can be performed on it. They define the format, structure, size, range, and behavior of data, controlling how it's stored and used in a program`"
   ]
  },
  {
   "cell_type": "markdown",
   "metadata": {},
   "source": [
    "## 1.Numeric types\n",
    "```python has three numeric types```\n",
    "\n",
    "- Integers (int): represent whole numbers, such as 42, -273, and 0.\n",
    "\n",
    "- Floating-point numbers (float): represent decimal numbers, such as 3.14, -1.5, and 0.0. They are represented using the decimal or scientific notation.\n",
    "\n",
    "- Complex numbers (complex): represent complex numbers, such as 1+2j, -3+4j, and 0+0j. They are represented using the a + bi notation, where a and b are real numbers and i is the imaginary unit (sqrt(-1))."
   ]
  },
  {
   "cell_type": "code",
   "execution_count": null,
   "metadata": {},
   "outputs": [
    {
     "name": "stdout",
     "output_type": "stream",
     "text": [
      "<class 'int'>\n",
      "<class 'float'>\n",
      "<class 'complex'>\n"
     ]
    }
   ],
   "source": [
    "# Integer type\n",
    "# int\n",
    "num_ints:int = 10\n",
    "print(type(num_ints)) # <class 'int'>\n",
    "\n",
    "# Float type\n",
    "# float\n",
    "num_float:float = 10.0\n",
    "\n",
    "print(type(num_float)) # <class 'float'>\n",
    "\n",
    "# Complex number type\n",
    "# complex\n",
    "num_complex:complex = 10 + 10j\n",
    "print(type(num_complex)) # <class 'complex'>\n",
    "\n"
   ]
  },
  {
   "cell_type": "markdown",
   "metadata": {},
   "source": [
    "## 2. Boolean type (bool)\n",
    "`Represents True or False`"
   ]
  },
  {
   "cell_type": "code",
   "execution_count": 6,
   "metadata": {},
   "outputs": [
    {
     "name": "stdout",
     "output_type": "stream",
     "text": [
      "<class 'bool'> is_python_awesome = True\n"
     ]
    }
   ],
   "source": [
    "is_python_awesome:bool = True\n",
    "print(type(is_python_awesome), \"is_python_awesome =\", is_python_awesome) # <class 'bool'>\n",
    "\n"
   ]
  },
  {
   "cell_type": "markdown",
   "metadata": {},
   "source": [
    "## 3. Sequence Types\n",
    "\n",
    "- Strings (str): represent sequences of characters enclosed in single or double quotes.\n",
    "\n",
    "- Tuples (tuple): represent ordered, immutable sequences of values.\n",
    "\n",
    "- Lists (list): represent ordered, mutable sequences of values.\n",
    "\n",
    "- Ranges (range): represent a sequence of numbers."
   ]
  }
 ],
 "metadata": {
  "kernelspec": {
   "display_name": "Python 3",
   "language": "python",
   "name": "python3"
  },
  "language_info": {
   "codemirror_mode": {
    "name": "ipython",
    "version": 3
   },
   "file_extension": ".py",
   "mimetype": "text/x-python",
   "name": "python",
   "nbconvert_exporter": "python",
   "pygments_lexer": "ipython3",
   "version": "3.12.8"
  }
 },
 "nbformat": 4,
 "nbformat_minor": 2
}
